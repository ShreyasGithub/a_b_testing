{
 "cells": [
  {
   "cell_type": "code",
   "execution_count": 5,
   "id": "43eeab34-01fb-4ca0-8893-d5aadccf67c8",
   "metadata": {},
   "outputs": [],
   "source": [
    "import numpy\n",
    "import pandas\n",
    "from matplotlib import pyplot\n",
    "from scipy.stats import norm, binom\n",
    "import math\n",
    "import json"
   ]
  },
  {
   "cell_type": "code",
   "execution_count": 6,
   "id": "7d1f26d5-a753-4525-a79a-222f9713e39d",
   "metadata": {},
   "outputs": [],
   "source": [
    "class EpsilonGreedyPolicy():\n",
    "    def __init__(self):\n",
    "        self.ads = [\n",
    "            {\n",
    "                'name': 'A',\n",
    "                'n_suc': 0,\n",
    "                'n':1,\n",
    "                'p': 0\n",
    "            },\n",
    "            {\n",
    "                'name': 'B',\n",
    "                'n_suc': 0,\n",
    "                'n':1,\n",
    "                'p': 0\n",
    "            },\n",
    "            {\n",
    "                'name': 'C',\n",
    "                'n_suc': 0,\n",
    "                'n':1,\n",
    "                'p': 0\n",
    "            },\n",
    "            \n",
    "        ]\n",
    "        self.epsilon = 0.1\n",
    "        self.total_n = 1\n",
    "        \n",
    "    def get_action(self):\n",
    "        if numpy.random.rand() < self.epsilon:\n",
    "            return numpy.random.choice(range(len(self.ads)))\n",
    "            \n",
    "        return numpy.argmax([ad['p'] for ad in self.ads])\n",
    "\n",
    "    def update(self, action, reward):\n",
    "        self.ads[action]['n_suc'] += reward\n",
    "        self.ads[action]['n'] += 1\n",
    "        self.ads[action]['p'] = self.ads[action]['n_suc'] / self.ads[action]['n']\n",
    "        self.total_n += 1\n",
    "\n",
    "class Agent():\n",
    "    def __init__(self, policy):\n",
    "        self.policy = policy\n",
    "\n",
    "    def get_action(self):\n",
    "        return self.policy.get_action()\n",
    "\n",
    "    def update(self, action, reward):\n",
    "        self.policy.update(action, reward)\n",
    "\n",
    "class Environment():\n",
    "    def __init__(self):\n",
    "        self.hidden_probs = [8/1000, 4/1000, 1/10000]\n",
    "\n",
    "    def perform(self, action):\n",
    "        return int(numpy.random.rand() < self.hidden_probs[action])\n",
    "\n",
    "class Experiment():\n",
    "    def __init__(self, environment, agent):\n",
    "        self.environment = environment\n",
    "        self.agent = agent\n",
    "        \n",
    "    def run_trails(self, n):\n",
    "        for ni in range(n):\n",
    "            action = self.agent.get_action()\n",
    "            reward = self.environment.perform(action)\n",
    "            self.agent.update(action, reward)\n",
    "\n",
    "    def print_policy(self):\n",
    "        policy = self.agent.policy\n",
    "        print('total n', policy.total_n)\n",
    "        print(json.dumps(policy.ads, indent=2))"
   ]
  },
  {
   "cell_type": "code",
   "execution_count": 7,
   "id": "cc4b7797-e756-4d2c-a31f-62fa2d4b8ea6",
   "metadata": {},
   "outputs": [],
   "source": [
    "policy = EpsilonGreedyPolicy()\n",
    "agent = Agent(policy)\n",
    "environment = Environment()\n",
    "experiment = Experiment(environment, agent)"
   ]
  },
  {
   "cell_type": "code",
   "execution_count": null,
   "id": "f314526b-3143-4e85-88ba-0c106efac855",
   "metadata": {},
   "outputs": [
    {
     "name": "stdout",
     "output_type": "stream",
     "text": [
      "n_trails 10\n",
      "total n 11\n",
      "[\n",
      "  {\n",
      "    \"name\": \"A\",\n",
      "    \"n_suc\": 0,\n",
      "    \"n\": 11,\n",
      "    \"p\": 0.0\n",
      "  },\n",
      "  {\n",
      "    \"name\": \"B\",\n",
      "    \"n_suc\": 0,\n",
      "    \"n\": 1,\n",
      "    \"p\": 0\n",
      "  },\n",
      "  {\n",
      "    \"name\": \"C\",\n",
      "    \"n_suc\": 0,\n",
      "    \"n\": 1,\n",
      "    \"p\": 0\n",
      "  }\n",
      "]\n"
     ]
    },
    {
     "name": "stdin",
     "output_type": "stream",
     "text": [
      "Press Enter to continue... \n"
     ]
    },
    {
     "name": "stdout",
     "output_type": "stream",
     "text": [
      "n_trails 20\n",
      "total n 31\n",
      "[\n",
      "  {\n",
      "    \"name\": \"A\",\n",
      "    \"n_suc\": 0,\n",
      "    \"n\": 28,\n",
      "    \"p\": 0.0\n",
      "  },\n",
      "  {\n",
      "    \"name\": \"B\",\n",
      "    \"n_suc\": 0,\n",
      "    \"n\": 4,\n",
      "    \"p\": 0.0\n",
      "  },\n",
      "  {\n",
      "    \"name\": \"C\",\n",
      "    \"n_suc\": 0,\n",
      "    \"n\": 1,\n",
      "    \"p\": 0\n",
      "  }\n",
      "]\n"
     ]
    },
    {
     "name": "stdin",
     "output_type": "stream",
     "text": [
      "Press Enter to continue... \n"
     ]
    },
    {
     "name": "stdout",
     "output_type": "stream",
     "text": [
      "n_trails 50\n",
      "total n 81\n",
      "[\n",
      "  {\n",
      "    \"name\": \"A\",\n",
      "    \"n_suc\": 0,\n",
      "    \"n\": 71,\n",
      "    \"p\": 0.0\n",
      "  },\n",
      "  {\n",
      "    \"name\": \"B\",\n",
      "    \"n_suc\": 0,\n",
      "    \"n\": 8,\n",
      "    \"p\": 0.0\n",
      "  },\n",
      "  {\n",
      "    \"name\": \"C\",\n",
      "    \"n_suc\": 0,\n",
      "    \"n\": 4,\n",
      "    \"p\": 0.0\n",
      "  }\n",
      "]\n"
     ]
    },
    {
     "name": "stdin",
     "output_type": "stream",
     "text": [
      "Press Enter to continue... \n"
     ]
    },
    {
     "name": "stdout",
     "output_type": "stream",
     "text": [
      "n_trails 100\n",
      "total n 181\n",
      "[\n",
      "  {\n",
      "    \"name\": \"A\",\n",
      "    \"n_suc\": 0,\n",
      "    \"n\": 167,\n",
      "    \"p\": 0.0\n",
      "  },\n",
      "  {\n",
      "    \"name\": \"B\",\n",
      "    \"n_suc\": 0,\n",
      "    \"n\": 10,\n",
      "    \"p\": 0.0\n",
      "  },\n",
      "  {\n",
      "    \"name\": \"C\",\n",
      "    \"n_suc\": 0,\n",
      "    \"n\": 6,\n",
      "    \"p\": 0.0\n",
      "  }\n",
      "]\n"
     ]
    },
    {
     "name": "stdin",
     "output_type": "stream",
     "text": [
      "Press Enter to continue... \n"
     ]
    },
    {
     "name": "stdout",
     "output_type": "stream",
     "text": [
      "n_trails 200\n",
      "total n 381\n",
      "[\n",
      "  {\n",
      "    \"name\": \"A\",\n",
      "    \"n_suc\": 1,\n",
      "    \"n\": 353,\n",
      "    \"p\": 0.0028328611898017\n",
      "  },\n",
      "  {\n",
      "    \"name\": \"B\",\n",
      "    \"n_suc\": 0,\n",
      "    \"n\": 16,\n",
      "    \"p\": 0.0\n",
      "  },\n",
      "  {\n",
      "    \"name\": \"C\",\n",
      "    \"n_suc\": 0,\n",
      "    \"n\": 14,\n",
      "    \"p\": 0.0\n",
      "  }\n",
      "]\n"
     ]
    },
    {
     "name": "stdin",
     "output_type": "stream",
     "text": [
      "Press Enter to continue... \n"
     ]
    },
    {
     "name": "stdout",
     "output_type": "stream",
     "text": [
      "n_trails 500\n",
      "total n 881\n",
      "[\n",
      "  {\n",
      "    \"name\": \"A\",\n",
      "    \"n_suc\": 6,\n",
      "    \"n\": 816,\n",
      "    \"p\": 0.007352941176470588\n",
      "  },\n",
      "  {\n",
      "    \"name\": \"B\",\n",
      "    \"n_suc\": 0,\n",
      "    \"n\": 32,\n",
      "    \"p\": 0.0\n",
      "  },\n",
      "  {\n",
      "    \"name\": \"C\",\n",
      "    \"n_suc\": 0,\n",
      "    \"n\": 35,\n",
      "    \"p\": 0.0\n",
      "  }\n",
      "]\n"
     ]
    },
    {
     "name": "stdin",
     "output_type": "stream",
     "text": [
      "Press Enter to continue... \n"
     ]
    },
    {
     "name": "stdout",
     "output_type": "stream",
     "text": [
      "n_trails 1000\n",
      "total n 1881\n",
      "[\n",
      "  {\n",
      "    \"name\": \"A\",\n",
      "    \"n_suc\": 14,\n",
      "    \"n\": 1716,\n",
      "    \"p\": 0.008158508158508158\n",
      "  },\n",
      "  {\n",
      "    \"name\": \"B\",\n",
      "    \"n_suc\": 1,\n",
      "    \"n\": 108,\n",
      "    \"p\": 0.009259259259259259\n",
      "  },\n",
      "  {\n",
      "    \"name\": \"C\",\n",
      "    \"n_suc\": 0,\n",
      "    \"n\": 59,\n",
      "    \"p\": 0.0\n",
      "  }\n",
      "]\n"
     ]
    },
    {
     "name": "stdin",
     "output_type": "stream",
     "text": [
      "Press Enter to continue... \n"
     ]
    },
    {
     "name": "stdout",
     "output_type": "stream",
     "text": [
      "n_trails 2000\n",
      "total n 3881\n",
      "[\n",
      "  {\n",
      "    \"name\": \"A\",\n",
      "    \"n_suc\": 30,\n",
      "    \"n\": 3555,\n",
      "    \"p\": 0.008438818565400843\n",
      "  },\n",
      "  {\n",
      "    \"name\": \"B\",\n",
      "    \"n_suc\": 1,\n",
      "    \"n\": 200,\n",
      "    \"p\": 0.005\n",
      "  },\n",
      "  {\n",
      "    \"name\": \"C\",\n",
      "    \"n_suc\": 0,\n",
      "    \"n\": 128,\n",
      "    \"p\": 0.0\n",
      "  }\n",
      "]\n"
     ]
    },
    {
     "name": "stdin",
     "output_type": "stream",
     "text": [
      "Press Enter to continue... \n"
     ]
    },
    {
     "name": "stdout",
     "output_type": "stream",
     "text": [
      "n_trails 5000\n",
      "total n 8881\n",
      "[\n",
      "  {\n",
      "    \"name\": \"A\",\n",
      "    \"n_suc\": 73,\n",
      "    \"n\": 8232,\n",
      "    \"p\": 0.008867832847424683\n",
      "  },\n",
      "  {\n",
      "    \"name\": \"B\",\n",
      "    \"n_suc\": 1,\n",
      "    \"n\": 371,\n",
      "    \"p\": 0.0026954177897574125\n",
      "  },\n",
      "  {\n",
      "    \"name\": \"C\",\n",
      "    \"n_suc\": 0,\n",
      "    \"n\": 280,\n",
      "    \"p\": 0.0\n",
      "  }\n",
      "]\n"
     ]
    },
    {
     "name": "stdin",
     "output_type": "stream",
     "text": [
      "Press Enter to continue... \n"
     ]
    },
    {
     "name": "stdout",
     "output_type": "stream",
     "text": [
      "n_trails 10000\n",
      "total n 18881\n",
      "[\n",
      "  {\n",
      "    \"name\": \"A\",\n",
      "    \"n_suc\": 148,\n",
      "    \"n\": 17570,\n",
      "    \"p\": 0.00842344906089926\n",
      "  },\n",
      "  {\n",
      "    \"name\": \"B\",\n",
      "    \"n_suc\": 5,\n",
      "    \"n\": 711,\n",
      "    \"p\": 0.007032348804500703\n",
      "  },\n",
      "  {\n",
      "    \"name\": \"C\",\n",
      "    \"n_suc\": 0,\n",
      "    \"n\": 602,\n",
      "    \"p\": 0.0\n",
      "  }\n",
      "]\n"
     ]
    },
    {
     "name": "stdin",
     "output_type": "stream",
     "text": [
      "Press Enter to continue... \n"
     ]
    },
    {
     "name": "stdout",
     "output_type": "stream",
     "text": [
      "n_trails 100000\n",
      "total n 118881\n",
      "[\n",
      "  {\n",
      "    \"name\": \"A\",\n",
      "    \"n_suc\": 853,\n",
      "    \"n\": 110867,\n",
      "    \"p\": 0.007693903506002688\n",
      "  },\n",
      "  {\n",
      "    \"name\": \"B\",\n",
      "    \"n_suc\": 14,\n",
      "    \"n\": 4029,\n",
      "    \"p\": 0.003474807644576818\n",
      "  },\n",
      "  {\n",
      "    \"name\": \"C\",\n",
      "    \"n_suc\": 0,\n",
      "    \"n\": 3987,\n",
      "    \"p\": 0.0\n",
      "  }\n",
      "]\n"
     ]
    }
   ],
   "source": [
    "for n_sub in [10, 20, 50, 100, 200, 500, 1000, 2000, 5000, 10000, 10**5]:\n",
    "    print('n_trails', n_sub)\n",
    "    experiment.run_trails(n_sub)\n",
    "    experiment.print_policy()\n",
    "    input(\"Press Enter to continue...\")"
   ]
  },
  {
   "cell_type": "code",
   "execution_count": null,
   "id": "6fbc28e1-f1e4-4e81-848b-7405d271b2e2",
   "metadata": {},
   "outputs": [],
   "source": []
  },
  {
   "cell_type": "code",
   "execution_count": null,
   "id": "3615f6f4-f202-4284-bfec-19b7b9269f6f",
   "metadata": {},
   "outputs": [],
   "source": []
  }
 ],
 "metadata": {
  "kernelspec": {
   "display_name": "pdp_ab_testing",
   "language": "python",
   "name": "pdp_ab_testing"
  },
  "language_info": {
   "codemirror_mode": {
    "name": "ipython",
    "version": 3
   },
   "file_extension": ".py",
   "mimetype": "text/x-python",
   "name": "python",
   "nbconvert_exporter": "python",
   "pygments_lexer": "ipython3",
   "version": "3.9.2"
  }
 },
 "nbformat": 4,
 "nbformat_minor": 5
}
