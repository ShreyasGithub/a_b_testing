{
 "cells": [
  {
   "cell_type": "code",
   "execution_count": 4,
   "id": "43eeab34-01fb-4ca0-8893-d5aadccf67c8",
   "metadata": {},
   "outputs": [],
   "source": [
    "import numpy\n",
    "import pandas\n",
    "from matplotlib import pyplot\n",
    "from scipy.stats import norm, binom\n",
    "import math\n",
    "import json"
   ]
  },
  {
   "cell_type": "code",
   "execution_count": 17,
   "id": "7d1f26d5-a753-4525-a79a-222f9713e39d",
   "metadata": {},
   "outputs": [],
   "source": [
    "class UpperConfidenceBoundPolicy():\n",
    "    def __init__(self):\n",
    "        self.ads = [\n",
    "            {\n",
    "                'name': 'A',\n",
    "                'n_suc': 0,\n",
    "                'n':1,\n",
    "                'p': 0\n",
    "            },\n",
    "            {\n",
    "                'name': 'B',\n",
    "                'n_suc': 0,\n",
    "                'n':1,\n",
    "                'p': 0\n",
    "            },\n",
    "            {\n",
    "                'name': 'C',\n",
    "                'n_suc': 0,\n",
    "                'n':1,\n",
    "                'p': 0\n",
    "            },\n",
    "            \n",
    "        ]\n",
    "        self.total_n = 1\n",
    "        \n",
    "    def get_action(self):\n",
    "        # return numpy.argmax([(ad['p'] + numpy.sqrt(2 * numpy.log10(self.total_n) / ad['n'])) for ad in self.ads])\n",
    "        return numpy.argmax([(ad['p'] + (numpy.log10(self.total_n) / ad['n'])) for ad in self.ads])\n",
    "\n",
    "    def update(self, action, reward):\n",
    "        self.ads[action]['n_suc'] += reward\n",
    "        self.ads[action]['n'] += 1\n",
    "        self.ads[action]['p'] = self.ads[action]['n_suc'] / self.ads[action]['n']\n",
    "        self.total_n += 1\n",
    "\n",
    "class Agent():\n",
    "    def __init__(self, policy):\n",
    "        self.policy = policy\n",
    "\n",
    "    def get_action(self):\n",
    "        return self.policy.get_action()\n",
    "\n",
    "    def update(self, action, reward):\n",
    "        self.policy.update(action, reward)\n",
    "\n",
    "class Environment():\n",
    "    def __init__(self):\n",
    "        self.hidden_probs = [8/1000, 4/1000, 1/10000]\n",
    "\n",
    "    def perform(self, action):\n",
    "        return int(numpy.random.rand() < self.hidden_probs[action])\n",
    "\n",
    "class Experiment():\n",
    "    def __init__(self, environment, agent):\n",
    "        self.environment = environment\n",
    "        self.agent = agent\n",
    "        \n",
    "    def run_trails(self, n):\n",
    "        for ni in range(n):\n",
    "            action = self.agent.get_action()\n",
    "            reward = self.environment.perform(action)\n",
    "            self.agent.update(action, reward)\n",
    "\n",
    "    def print_policy(self):\n",
    "        policy = self.agent.policy\n",
    "        print('total n', policy.total_n)\n",
    "        print(json.dumps(policy.ads, indent=2))"
   ]
  },
  {
   "cell_type": "code",
   "execution_count": 18,
   "id": "cc4b7797-e756-4d2c-a31f-62fa2d4b8ea6",
   "metadata": {},
   "outputs": [],
   "source": [
    "policy = UpperConfidenceBoundPolicy()\n",
    "agent = Agent(policy)\n",
    "environment = Environment()\n",
    "experiment = Experiment(environment, agent)"
   ]
  },
  {
   "cell_type": "code",
   "execution_count": 19,
   "id": "f314526b-3143-4e85-88ba-0c106efac855",
   "metadata": {},
   "outputs": [
    {
     "name": "stdout",
     "output_type": "stream",
     "text": [
      "n_trails 10\n",
      "total n 11\n",
      "[\n",
      "  {\n",
      "    \"name\": \"A\",\n",
      "    \"n_suc\": 0,\n",
      "    \"n\": 5,\n",
      "    \"p\": 0.0\n",
      "  },\n",
      "  {\n",
      "    \"name\": \"B\",\n",
      "    \"n_suc\": 0,\n",
      "    \"n\": 4,\n",
      "    \"p\": 0.0\n",
      "  },\n",
      "  {\n",
      "    \"name\": \"C\",\n",
      "    \"n_suc\": 0,\n",
      "    \"n\": 4,\n",
      "    \"p\": 0.0\n",
      "  }\n",
      "]\n"
     ]
    },
    {
     "name": "stdin",
     "output_type": "stream",
     "text": [
      "Press Enter to continue... \n"
     ]
    },
    {
     "name": "stdout",
     "output_type": "stream",
     "text": [
      "n_trails 20\n",
      "total n 31\n",
      "[\n",
      "  {\n",
      "    \"name\": \"A\",\n",
      "    \"n_suc\": 0,\n",
      "    \"n\": 11,\n",
      "    \"p\": 0.0\n",
      "  },\n",
      "  {\n",
      "    \"name\": \"B\",\n",
      "    \"n_suc\": 0,\n",
      "    \"n\": 11,\n",
      "    \"p\": 0.0\n",
      "  },\n",
      "  {\n",
      "    \"name\": \"C\",\n",
      "    \"n_suc\": 0,\n",
      "    \"n\": 11,\n",
      "    \"p\": 0.0\n",
      "  }\n",
      "]\n"
     ]
    },
    {
     "name": "stdin",
     "output_type": "stream",
     "text": [
      "Press Enter to continue... \n"
     ]
    },
    {
     "name": "stdout",
     "output_type": "stream",
     "text": [
      "n_trails 50\n",
      "total n 81\n",
      "[\n",
      "  {\n",
      "    \"name\": \"A\",\n",
      "    \"n_suc\": 0,\n",
      "    \"n\": 28,\n",
      "    \"p\": 0.0\n",
      "  },\n",
      "  {\n",
      "    \"name\": \"B\",\n",
      "    \"n_suc\": 0,\n",
      "    \"n\": 28,\n",
      "    \"p\": 0.0\n",
      "  },\n",
      "  {\n",
      "    \"name\": \"C\",\n",
      "    \"n_suc\": 0,\n",
      "    \"n\": 27,\n",
      "    \"p\": 0.0\n",
      "  }\n",
      "]\n"
     ]
    },
    {
     "name": "stdin",
     "output_type": "stream",
     "text": [
      "Press Enter to continue... \n"
     ]
    },
    {
     "name": "stdout",
     "output_type": "stream",
     "text": [
      "n_trails 100\n",
      "total n 181\n",
      "[\n",
      "  {\n",
      "    \"name\": \"A\",\n",
      "    \"n_suc\": 0,\n",
      "    \"n\": 57,\n",
      "    \"p\": 0.0\n",
      "  },\n",
      "  {\n",
      "    \"name\": \"B\",\n",
      "    \"n_suc\": 1,\n",
      "    \"n\": 70,\n",
      "    \"p\": 0.014285714285714285\n",
      "  },\n",
      "  {\n",
      "    \"name\": \"C\",\n",
      "    \"n_suc\": 0,\n",
      "    \"n\": 56,\n",
      "    \"p\": 0.0\n",
      "  }\n",
      "]\n"
     ]
    },
    {
     "name": "stdin",
     "output_type": "stream",
     "text": [
      "Press Enter to continue... \n"
     ]
    },
    {
     "name": "stdout",
     "output_type": "stream",
     "text": [
      "n_trails 200\n",
      "total n 381\n",
      "[\n",
      "  {\n",
      "    \"name\": \"A\",\n",
      "    \"n_suc\": 0,\n",
      "    \"n\": 92,\n",
      "    \"p\": 0.0\n",
      "  },\n",
      "  {\n",
      "    \"name\": \"B\",\n",
      "    \"n_suc\": 2,\n",
      "    \"n\": 163,\n",
      "    \"p\": 0.012269938650306749\n",
      "  },\n",
      "  {\n",
      "    \"name\": \"C\",\n",
      "    \"n_suc\": 1,\n",
      "    \"n\": 128,\n",
      "    \"p\": 0.0078125\n",
      "  }\n",
      "]\n"
     ]
    },
    {
     "name": "stdin",
     "output_type": "stream",
     "text": [
      "Press Enter to continue... \n"
     ]
    },
    {
     "name": "stdout",
     "output_type": "stream",
     "text": [
      "n_trails 500\n",
      "total n 881\n",
      "[\n",
      "  {\n",
      "    \"name\": \"A\",\n",
      "    \"n_suc\": 2,\n",
      "    \"n\": 316,\n",
      "    \"p\": 0.006329113924050633\n",
      "  },\n",
      "  {\n",
      "    \"name\": \"B\",\n",
      "    \"n_suc\": 2,\n",
      "    \"n\": 315,\n",
      "    \"p\": 0.006349206349206349\n",
      "  },\n",
      "  {\n",
      "    \"name\": \"C\",\n",
      "    \"n_suc\": 1,\n",
      "    \"n\": 252,\n",
      "    \"p\": 0.003968253968253968\n",
      "  }\n",
      "]\n"
     ]
    },
    {
     "name": "stdin",
     "output_type": "stream",
     "text": [
      "Press Enter to continue... \n"
     ]
    },
    {
     "name": "stdout",
     "output_type": "stream",
     "text": [
      "n_trails 1000\n",
      "total n 1881\n",
      "[\n",
      "  {\n",
      "    \"name\": \"A\",\n",
      "    \"n_suc\": 6,\n",
      "    \"n\": 726,\n",
      "    \"p\": 0.008264462809917356\n",
      "  },\n",
      "  {\n",
      "    \"name\": \"B\",\n",
      "    \"n_suc\": 5,\n",
      "    \"n\": 765,\n",
      "    \"p\": 0.006535947712418301\n",
      "  },\n",
      "  {\n",
      "    \"name\": \"C\",\n",
      "    \"n_suc\": 1,\n",
      "    \"n\": 392,\n",
      "    \"p\": 0.002551020408163265\n",
      "  }\n",
      "]\n"
     ]
    },
    {
     "name": "stdin",
     "output_type": "stream",
     "text": [
      "Press Enter to continue... \n"
     ]
    },
    {
     "name": "stdout",
     "output_type": "stream",
     "text": [
      "n_trails 2000\n",
      "total n 3881\n",
      "[\n",
      "  {\n",
      "    \"name\": \"A\",\n",
      "    \"n_suc\": 10,\n",
      "    \"n\": 1660,\n",
      "    \"p\": 0.006024096385542169\n",
      "  },\n",
      "  {\n",
      "    \"name\": \"B\",\n",
      "    \"n_suc\": 10,\n",
      "    \"n\": 1662,\n",
      "    \"p\": 0.006016847172081829\n",
      "  },\n",
      "  {\n",
      "    \"name\": \"C\",\n",
      "    \"n_suc\": 1,\n",
      "    \"n\": 561,\n",
      "    \"p\": 0.0017825311942959\n",
      "  }\n",
      "]\n"
     ]
    },
    {
     "name": "stdin",
     "output_type": "stream",
     "text": [
      "Press Enter to continue... \n"
     ]
    },
    {
     "name": "stdout",
     "output_type": "stream",
     "text": [
      "n_trails 5000\n",
      "total n 8881\n",
      "[\n",
      "  {\n",
      "    \"name\": \"A\",\n",
      "    \"n_suc\": 45,\n",
      "    \"n\": 5298,\n",
      "    \"p\": 0.008493771234428085\n",
      "  },\n",
      "  {\n",
      "    \"name\": \"B\",\n",
      "    \"n_suc\": 16,\n",
      "    \"n\": 2885,\n",
      "    \"p\": 0.005545927209705373\n",
      "  },\n",
      "  {\n",
      "    \"name\": \"C\",\n",
      "    \"n_suc\": 1,\n",
      "    \"n\": 700,\n",
      "    \"p\": 0.0014285714285714286\n",
      "  }\n",
      "]\n"
     ]
    },
    {
     "name": "stdin",
     "output_type": "stream",
     "text": [
      "Press Enter to continue... \n"
     ]
    },
    {
     "name": "stdout",
     "output_type": "stream",
     "text": [
      "n_trails 10000\n",
      "total n 18881\n",
      "[\n",
      "  {\n",
      "    \"name\": \"A\",\n",
      "    \"n_suc\": 125,\n",
      "    \"n\": 15298,\n",
      "    \"p\": 0.008171002745456922\n",
      "  },\n",
      "  {\n",
      "    \"name\": \"B\",\n",
      "    \"n_suc\": 16,\n",
      "    \"n\": 2885,\n",
      "    \"p\": 0.005545927209705373\n",
      "  },\n",
      "  {\n",
      "    \"name\": \"C\",\n",
      "    \"n_suc\": 1,\n",
      "    \"n\": 700,\n",
      "    \"p\": 0.0014285714285714286\n",
      "  }\n",
      "]\n"
     ]
    },
    {
     "name": "stdin",
     "output_type": "stream",
     "text": [
      "Press Enter to continue... \n"
     ]
    },
    {
     "name": "stdout",
     "output_type": "stream",
     "text": [
      "n_trails 100000\n",
      "total n 118881\n",
      "[\n",
      "  {\n",
      "    \"name\": \"A\",\n",
      "    \"n_suc\": 908,\n",
      "    \"n\": 115223,\n",
      "    \"p\": 0.00788037110646312\n",
      "  },\n",
      "  {\n",
      "    \"name\": \"B\",\n",
      "    \"n_suc\": 16,\n",
      "    \"n\": 2885,\n",
      "    \"p\": 0.005545927209705373\n",
      "  },\n",
      "  {\n",
      "    \"name\": \"C\",\n",
      "    \"n_suc\": 1,\n",
      "    \"n\": 775,\n",
      "    \"p\": 0.0012903225806451613\n",
      "  }\n",
      "]\n"
     ]
    },
    {
     "name": "stdin",
     "output_type": "stream",
     "text": [
      "Press Enter to continue... \n"
     ]
    }
   ],
   "source": [
    "for n_sub in [10, 20, 50, 100, 200, 500, 1000, 2000, 5000, 10000, 10**5]:\n",
    "    print('n_trails', n_sub)\n",
    "    experiment.run_trails(n_sub)\n",
    "    experiment.print_policy()\n",
    "    input(\"Press Enter to continue...\")"
   ]
  },
  {
   "cell_type": "code",
   "execution_count": null,
   "id": "6fbc28e1-f1e4-4e81-848b-7405d271b2e2",
   "metadata": {},
   "outputs": [],
   "source": []
  },
  {
   "cell_type": "code",
   "execution_count": null,
   "id": "3615f6f4-f202-4284-bfec-19b7b9269f6f",
   "metadata": {},
   "outputs": [],
   "source": []
  }
 ],
 "metadata": {
  "kernelspec": {
   "display_name": "pdp_ab_testing",
   "language": "python",
   "name": "pdp_ab_testing"
  },
  "language_info": {
   "codemirror_mode": {
    "name": "ipython",
    "version": 3
   },
   "file_extension": ".py",
   "mimetype": "text/x-python",
   "name": "python",
   "nbconvert_exporter": "python",
   "pygments_lexer": "ipython3",
   "version": "3.9.2"
  }
 },
 "nbformat": 4,
 "nbformat_minor": 5
}
